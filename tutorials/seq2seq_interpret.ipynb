{
 "cells": [
  {
   "cell_type": "markdown",
   "metadata": {},
   "source": [
    "# Translate and Interpret Samples"
   ]
  },
  {
   "cell_type": "markdown",
   "metadata": {},
   "source": [
    "This notebook trains a vanilla seq2seq model for German to English Translation on Multi30K dataset. It makes translate a sample sentence and interprets the translation using integrated gradients method.\n",
    "\n",
    "The model was trained using an open source sentiment analysis tutorials described in [here](https://github.com/bentrevett/pytorch-seq2seq/blob/master/1%20-%20Sequence%20to%20Sequence%20Learning%20with%20Neural%20Networks.ipynb)\n"
   ]
  },
  {
   "cell_type": "markdown",
   "metadata": {},
   "source": [
    "# Part 1 - Training Model"
   ]
  },
  {
   "cell_type": "code",
   "execution_count": 1,
   "metadata": {},
   "outputs": [],
   "source": [
    "import fairseq\n",
    "import math\n",
    "import numpy as np\n",
    "import random\n",
    "import spacy\n",
    "\n",
    "import torch\n",
    "import torchtext\n",
    "import torchtext.data\n",
    "import torch.nn as nn\n",
    "import torch.nn.functional as F\n",
    "import torch.optim as optim\n",
    "from torch.autograd import Variable\n",
    "\n"
   ]
  },
  {
   "cell_type": "code",
   "execution_count": 2,
   "metadata": {},
   "outputs": [],
   "source": [
    "import os\n",
    "os.environ['HTTP_PROXY'] = \"http://fwdproxy:8080\"\n",
    "os.environ['HTTPS_PROXY'] = \"https://fwdproxy:8080\"\n",
    "os.environ['http_proxy'] = \"fwdproxy:8080\"\n",
    "os.environ['https_proxy'] = \"fwdproxy:8080\""
   ]
  },
  {
   "cell_type": "code",
   "execution_count": 3,
   "metadata": {},
   "outputs": [],
   "source": [
    "device = torch.device(\"cuda:5\" if torch.cuda.is_available() else \"cpu\")\n",
    "\n"
   ]
  },
  {
   "cell_type": "markdown",
   "metadata": {},
   "source": [
    "Load Dataset"
   ]
  },
  {
   "cell_type": "code",
   "execution_count": 4,
   "metadata": {},
   "outputs": [],
   "source": [
    "SEED = 5\n",
    "random.seed(SEED)\n",
    "torch.manual_seed(SEED)\n",
    "torch.backends.cudnn.deterministic = True"
   ]
  },
  {
   "cell_type": "markdown",
   "metadata": {},
   "source": [
    "spaCy has model for a handful of languages (\"de\" for German and \"en\" for English)."
   ]
  },
  {
   "cell_type": "code",
   "execution_count": 5,
   "metadata": {},
   "outputs": [],
   "source": [
    "# for tokenizing the english sentences\n",
    "spacy_en = spacy.load('en')\n",
    "# for tokenizing the german sentences\n",
    "spacy_de = spacy.load('de')"
   ]
  },
  {
   "cell_type": "code",
   "execution_count": 6,
   "metadata": {},
   "outputs": [],
   "source": [
    "def tokenize_de(text):\n",
    "    # tokenizes the german text into a list of strings(tokens)\n",
    "    return [tok.text for tok in spacy_de.tokenizer(text)]\n",
    "\n",
    "\n",
    "def tokenize_en(text):\n",
    "    # tokenizes the english text into a list of strings(tokens)\n",
    "    return [tok.text for tok in spacy_en.tokenizer(text)]"
   ]
  },
  {
   "cell_type": "markdown",
   "metadata": {},
   "source": [
    "TorchText's Fields handle how data should be processed. "
   ]
  },
  {
   "cell_type": "code",
   "execution_count": 7,
   "metadata": {},
   "outputs": [],
   "source": [
    "SRC = torchtext.data.Field(tokenize=tokenize_de, init_token='<sos>', eos_token='<eos>', lower=True)\n",
    "TRG = torchtext.data.Field(tokenize=tokenize_en, init_token='<sos>', eos_token='<eos>', lower=True)"
   ]
  },
  {
   "cell_type": "markdown",
   "metadata": {},
   "source": [
    "For this task, we are using the Multi30K dataset, which is built in dataset in torchtext."
   ]
  },
  {
   "cell_type": "code",
   "execution_count": 8,
   "metadata": {},
   "outputs": [],
   "source": [
    "train_data, valid_data, test_data = torchtext.datasets.Multi30k.splits(exts=('.de', '.en'), fields=(SRC, TRG))"
   ]
  },
  {
   "cell_type": "code",
   "execution_count": 9,
   "metadata": {},
   "outputs": [],
   "source": [
    "SRC.build_vocab(train_data, min_freq=2)\n",
    "TRG.build_vocab(train_data, min_freq=2)"
   ]
  },
  {
   "cell_type": "markdown",
   "metadata": {},
   "source": [
    "Create data iterator"
   ]
  },
  {
   "cell_type": "code",
   "execution_count": 10,
   "metadata": {},
   "outputs": [],
   "source": [
    "# define batch size\n",
    "BATCH_SIZE = 32\n",
    "\n",
    "train_iterator, valid_iterator, test_iterator = torchtext.data.BucketIterator.splits(\n",
    "    (train_data, valid_data, test_data), batch_size=BATCH_SIZE, device=device\n",
    ")"
   ]
  },
  {
   "cell_type": "code",
   "execution_count": 11,
   "metadata": {},
   "outputs": [],
   "source": [
    "class Encoder(nn.Module):\n",
    "    def __init__(self, input_dim, emb_dim, hidden_dim, n_layers, dropout):\n",
    "        super().__init__()\n",
    "        self.input_dim = input_dim\n",
    "        self.emb_dim = emb_dim\n",
    "        self.hidden_dim = hidden_dim\n",
    "        self.n_layers = n_layers\n",
    "        self.dropout = dropout\n",
    "        \n",
    "        self.embedding = nn.Embedding(input_dim, emb_dim)\n",
    "        self.rnn = nn.LSTM(emb_dim, hidden_dim, n_layers, dropout=dropout)\n",
    "        self.dropout = nn.Dropout(dropout)\n",
    "     \n",
    "    def forward(self, src):\n",
    "        \n",
    "        #src = [src sent len, batch size]\n",
    "        embedded = self.embedding(src)\n",
    "        embedded = self.dropout(embedded)\n",
    "        #embedded = [src sent len, batch size, emb dim]\n",
    "        \n",
    "        outputs, (hidden, cell) = self.rnn(embedded)\n",
    "        #outputs = [src sent len, batch size, hid dim]\n",
    "        #hidden = [n layers, batch size, hid dim]\n",
    "        #cell = [n layers, batch size, hid dim]\n",
    "        \n",
    "        return hidden, cell"
   ]
  },
  {
   "cell_type": "code",
   "execution_count": 12,
   "metadata": {},
   "outputs": [],
   "source": [
    "class Decoder(nn.Module):\n",
    "    def __init__(self, embedding_dim, output_dim, hidden_dim, n_layers, dropout):\n",
    "        super().__init__()\n",
    "        \n",
    "        self.embedding_dim = embedding_dim\n",
    "        self.output_dim = output_dim\n",
    "        self.hidden_dim = hidden_dim\n",
    "        self.n_layers = n_layers\n",
    "        self.dropout = dropout\n",
    "        \n",
    "        self.embedding = nn.Embedding(output_dim, embedding_dim)\n",
    "        self.rnn = nn.LSTM(embedding_dim, hidden_dim, n_layers, dropout=dropout)\n",
    "        self.linear = nn.Linear(hidden_dim, output_dim)\n",
    "        self.dropout = nn.Dropout(dropout)\n",
    "        \n",
    "    def forward(self, input, hidden, cell):\n",
    "        #input = [batch size]\n",
    "        input = input.unsqueeze(0)\n",
    "        \n",
    "        embedded = self.embedding(input)\n",
    "        embedded = self.dropout(embedded)\n",
    "        #embedded = [1, batch size, emb dim]\n",
    "        \n",
    "        output, (hidden, cell) = self.rnn(embedded, (hidden, cell))\n",
    "        #output = [1, batch size, hid dim]\n",
    "        #hidden = [n layers, batch size, hid dim]\n",
    "        #cell = [n layers, batch size, hid dim]\n",
    "\n",
    "        predicted = self.linear(output.squeeze(0))\n",
    "        #predicted = [batch size, output dim]\n",
    "        \n",
    "        return predicted, hidden, cell\n",
    "    \n",
    "    "
   ]
  },
  {
   "cell_type": "code",
   "execution_count": 13,
   "metadata": {},
   "outputs": [],
   "source": [
    "class Seq2Seq(nn.Module):\n",
    "    \n",
    "    def __init__(self, encoder, decoder):\n",
    "        super().__init__()\n",
    "        self.encoder = encoder\n",
    "        self.decoder = decoder\n",
    "        \n",
    "    def forward(self, src, trg, teacher_forcing_ratio=0):\n",
    "        #src = [src sent len, batch size]\n",
    "        #trg = [trg sent len, batch size]\n",
    "        batch_size = trg.shape[1]\n",
    "        max_len = trg.shape[0]\n",
    "        trg_vocab_size = self.decoder.output_dim\n",
    "        \n",
    "        outputs = torch.zeros(max_len, batch_size, trg_vocab_size)\n",
    "        \n",
    "        hidden, cell = self.encoder(src)\n",
    "        \n",
    "        input = trg[0, :]\n",
    "        \n",
    "        for t in range(1, max_len):\n",
    "            output, hidden, cell = self.decoder(input, hidden, cell)\n",
    "            outputs[t] = output \n",
    "            use_teacher_force = random.random() < teacher_forcing_ratio\n",
    "            top1 = output.max(1)[1]\n",
    "            input = (trg[t] if use_teacher_force else top1)\n",
    "            \n",
    "        return outputs"
   ]
  },
  {
   "cell_type": "code",
   "execution_count": 14,
   "metadata": {},
   "outputs": [],
   "source": [
    "INPUT_DIM = len(SRC.vocab)\n",
    "OUTPUT_DIM = len(TRG.vocab)\n",
    "\n",
    "ENC_EMB_DIM = 256   # encoder embedding size\n",
    "DEC_EMB_DIM = 256   # decoder embedding size (can be different from encoder embedding size)\n",
    "HID_DIM = 512       # hidden dimension (must be same for encoder & decoder)\n",
    "N_LAYERS = 2        # number of rnn layers (must be same for encoder & decoder)\n",
    "ENC_DROPOUT = 0.5   # encoder dropout\n",
    "DEC_DROPOUT = 0.5   # decoder dropout (can be different from encoder droput)\n",
    "\n",
    "enc = Encoder(INPUT_DIM, ENC_EMB_DIM, HID_DIM, N_LAYERS, ENC_DROPOUT)\n",
    "dec = Decoder(DEC_EMB_DIM, OUTPUT_DIM, HID_DIM, N_LAYERS, DEC_DROPOUT)\n",
    "model = Seq2Seq(enc, dec)"
   ]
  },
  {
   "cell_type": "code",
   "execution_count": 15,
   "metadata": {},
   "outputs": [
    {
     "data": {
      "text/plain": [
       "Seq2Seq(\n",
       "  (encoder): Encoder(\n",
       "    (embedding): Embedding(7855, 256)\n",
       "    (rnn): LSTM(256, 512, num_layers=2, dropout=0.5)\n",
       "    (dropout): Dropout(p=0.5, inplace=False)\n",
       "  )\n",
       "  (decoder): Decoder(\n",
       "    (embedding): Embedding(5893, 256)\n",
       "    (rnn): LSTM(256, 512, num_layers=2, dropout=0.5)\n",
       "    (linear): Linear(in_features=512, out_features=5893, bias=True)\n",
       "    (dropout): Dropout(p=0.5, inplace=False)\n",
       "  )\n",
       ")"
      ]
     },
     "execution_count": 15,
     "metadata": {},
     "output_type": "execute_result"
    }
   ],
   "source": [
    "model"
   ]
  },
  {
   "cell_type": "code",
   "execution_count": 16,
   "metadata": {},
   "outputs": [],
   "source": [
    "optimizer = optim.Adam(model.parameters())"
   ]
  },
  {
   "cell_type": "markdown",
   "metadata": {},
   "source": [
    "The loss function calculates the average loss per token, however by passing the index of the <pad> token as the ignore_index argument we ignore the loss whenever the target token is a padding token."
   ]
  },
  {
   "cell_type": "code",
   "execution_count": 17,
   "metadata": {},
   "outputs": [],
   "source": [
    "pad_idx = TRG.vocab.stoi['<pad>']"
   ]
  },
  {
   "cell_type": "code",
   "execution_count": 18,
   "metadata": {},
   "outputs": [],
   "source": [
    "criterion = nn.CrossEntropyLoss(ignore_index=pad_idx)"
   ]
  },
  {
   "cell_type": "code",
   "execution_count": 19,
   "metadata": {},
   "outputs": [],
   "source": [
    "def train(model, iterator, optimizer, criterion, clip):\n",
    "    model.train()\n",
    "    epoch_loss = 0\n",
    "    \n",
    "    for i, batch in enumerate(iterator):\n",
    "        src = batch.src\n",
    "        trg = batch.trg\n",
    "        \n",
    "        optimizer.zero_grad()\n",
    "        output = model(src, trg)\n",
    "        loss = criterion(output[1:].view(-1, output.shape[2]), trg[1:].view(-1))\n",
    "        \n",
    "        loss.backward()\n",
    "        \n",
    "        torch.nn.utils.clip_grad_norm_(model.parameters(), clip)\n",
    "        \n",
    "        optimizer.step()\n",
    "        \n",
    "        epoch_loss += loss.item()\n",
    "    \n",
    "    return epoch_loss / len(iterator)"
   ]
  },
  {
   "cell_type": "code",
   "execution_count": 20,
   "metadata": {},
   "outputs": [],
   "source": [
    "def evaluate(model, iterator, criterion):\n",
    "    model.eval()\n",
    "    epoch_loss = 0\n",
    "    \n",
    "    with torch.no_grad():\n",
    "        for i, batch in enumerate(iterator):\n",
    "            src = batch.src\n",
    "            trg = batch.trg\n",
    "            \n",
    "            output = model(src, trg, 0)\n",
    "            \n",
    "            loss = criterion(output[1:].view(-1, output.shape[2]), trg[1:].view(-1))\n",
    "\n",
    "            epoch_loss += loss.item()\n",
    "    \n",
    "    return epoch_loss/len(iterator), output\n"
   ]
  },
  {
   "cell_type": "code",
   "execution_count": 21,
   "metadata": {},
   "outputs": [],
   "source": [
    "# N_EPOCHS = 10           # number of epochs\n",
    "# CLIP = 10               # gradient clip value\n",
    "# SAVE_DIR = 'models'     # directory name to save the models.\n",
    "# MODEL_SAVE_PATH = os.path.join(SAVE_DIR, 'seq2seq_model.pt')\n",
    "\n",
    "# best_validation_loss = float('inf')\n",
    "\n",
    "# if not os.path.isdir(f'{SAVE_DIR}'):\n",
    "#     os.makedirs(f'{SAVE_DIR}')\n",
    "\n",
    "# for epoch in range(N_EPOCHS):\n",
    "#     print (os.path.join('seq2seq_model_{}.pt').format(str(epoch)))\n",
    "#     train_loss = train(model, train_iterator, optimizer, criterion, CLIP)\n",
    "#     valid_loss = evaluate(model, valid_iterator, criterion)\n",
    "\n",
    "#     if valid_loss < best_validation_loss:\n",
    "#         best_validation_loss = valid_loss\n",
    "#         torch.save(model.state_dict(), os.path.join('seq2seq_model_{}.pt').format(str(epoch)))\n",
    "#         print(f'| Epoch: {epoch+1:03} | Train Loss: {train_loss:.3f} | Train PPL: {math.exp(train_loss):7.3f} | Val. Loss: {valid_loss:.3f} | Val. PPL: {math.exp(valid_loss):7.3f} |')"
   ]
  },
  {
   "cell_type": "code",
   "execution_count": null,
   "metadata": {},
   "outputs": [],
   "source": []
  },
  {
   "cell_type": "markdown",
   "metadata": {},
   "source": [
    "# Part 2 - Interpreting Translation"
   ]
  },
  {
   "cell_type": "markdown",
   "metadata": {},
   "source": [
    "Loads the pretrained model."
   ]
  },
  {
   "cell_type": "code",
   "execution_count": 22,
   "metadata": {},
   "outputs": [],
   "source": [
    "from captum.attr import IntegratedGradients\n",
    "from captum.attr import InterpretableEmbeddingBase, TokenReferenceBase\n",
    "from captum.attr import configure_interpretable_embedding_layer, remove_interpretable_embedding_layer\n"
   ]
  },
  {
   "cell_type": "code",
   "execution_count": 23,
   "metadata": {},
   "outputs": [],
   "source": [
    "pretrained_model = Seq2Seq(enc, dec)"
   ]
  },
  {
   "cell_type": "code",
   "execution_count": 24,
   "metadata": {},
   "outputs": [
    {
     "data": {
      "text/plain": [
       "<All keys matched successfully>"
      ]
     },
     "execution_count": 24,
     "metadata": {},
     "output_type": "execute_result"
    }
   ],
   "source": [
    "pretrained_model.load_state_dict(torch.load('/home/irisz/local/notebooks/migrated_notebooks/seq2seq_model_6.pt'))"
   ]
  },
  {
   "cell_type": "markdown",
   "metadata": {},
   "source": [
    "Forward method that allows you to extract a output tensor at a specific index."
   ]
  },
  {
   "cell_type": "code",
   "execution_count": 25,
   "metadata": {},
   "outputs": [],
   "source": [
    "def ig_forward(src, trg, idx):\n",
    "    # Make sure the dimentaionality of the output is [batch_size, vocab_size]\n",
    "    # The batch_size is 1 as we are running on 1 sample\n",
    "    assert (model.forward(src, trg)[idx][0].unsqueeze(0).shape == (1, len(TRG.vocab)))\n",
    "    return model.forward(src, trg)[idx][0].unsqueeze(0)"
   ]
  },
  {
   "cell_type": "markdown",
   "metadata": {},
   "source": [
    "In order to explain text features, we introduce interpretable embedding layers which allows access word embeddings and generate meaningful attributions for each embedding dimension.\n",
    "\n",
    "configure_interpretable_embedding_layer function separates embedding layer from the model and precomputes word embeddings in advance. The embedding layer of our model is then being replaced by an Interpretable Embedding Layer which wraps original embedding layer and takes word embedding vectors as inputs of the forward function. This allows to generate baselines for word embeddings and compute attributions for each embedding dimension.\n",
    "\n",
    "Note: After finishing interpretation it is important to call remove_interpretable_embedding_layer which removes the Interpretable Embedding Layer that we added for interpretation purposes and sets the original embedding layer back in the model."
   ]
  },
  {
   "cell_type": "code",
   "execution_count": 26,
   "metadata": {},
   "outputs": [
    {
     "name": "stderr",
     "output_type": "stream",
     "text": [
      "/data/users/irisz/captum/captum/attr/_models/base.py:133: UserWarning: In order to make embedding layers more interpretable they will\n",
      "        be replaced with an interpretable embedding layer which wraps the\n",
      "        original embedding layer and takes word embedding vectors as inputs of\n",
      "        the forward function. This allows to generate baselines for word\n",
      "        embeddings and compute attributions for each embedding dimension.\n",
      "        The original embedding layer must be set\n",
      "        back by calling `remove_interpretable_embedding_layer` function\n",
      "        after model interpretation is finished.\n",
      "  after model interpretation is finished.\"\"\"\n"
     ]
    }
   ],
   "source": [
    "interpretable_embedding = configure_interpretable_embedding_layer(pretrained_model, 'encoder.embedding')"
   ]
  },
  {
   "cell_type": "code",
   "execution_count": 27,
   "metadata": {},
   "outputs": [
    {
     "data": {
      "text/plain": [
       "Seq2Seq(\n",
       "  (encoder): Encoder(\n",
       "    (embedding): InterpretableEmbeddingBase(\n",
       "      7855, 256\n",
       "      (embedding): Embedding(7855, 256)\n",
       "    )\n",
       "    (rnn): LSTM(256, 512, num_layers=2, dropout=0.5)\n",
       "    (dropout): Dropout(p=0.5, inplace=False)\n",
       "  )\n",
       "  (decoder): Decoder(\n",
       "    (embedding): Embedding(5893, 256)\n",
       "    (rnn): LSTM(256, 512, num_layers=2, dropout=0.5)\n",
       "    (linear): Linear(in_features=512, out_features=5893, bias=True)\n",
       "    (dropout): Dropout(p=0.5, inplace=False)\n",
       "  )\n",
       ")"
      ]
     },
     "execution_count": 27,
     "metadata": {},
     "output_type": "execute_result"
    }
   ],
   "source": [
    "pretrained_model"
   ]
  },
  {
   "cell_type": "code",
   "execution_count": 28,
   "metadata": {},
   "outputs": [],
   "source": [
    "ig = IntegratedGradients(ig_forward)"
   ]
  },
  {
   "cell_type": "code",
   "execution_count": 92,
   "metadata": {},
   "outputs": [],
   "source": [
    "def interpret_sentence(model, src, trg):\n",
    "    \n",
    "    # get a list of src_tokens from the src sentence\n",
    "    src_tokens = tokenize_de(src)\n",
    "    src_tokens = [SRC.init_token] + src_tokens + [SRC.eos_token]\n",
    "    src_indices = [[SRC.vocab.stoi[t]] for t in src_tokens]\n",
    "    \n",
    "    # get a list of trg_tokens from the trg sentence\n",
    "    trg_tokens = tokenize_en(trg)\n",
    "    trg_tokens = [TRG.init_token] + trg_tokens + [TRG.eos_token]\n",
    "    trg_indices = [[TRG.vocab.stoi[t]] for t in trg_tokens]\n",
    "    \n",
    "    model.eval()\n",
    "    model.zero_grad()\n",
    "    \n",
    "    # pre-computing word embeddings\n",
    "    src_indices = torch.LongTensor(src_indices)\n",
    "    src_embedding = interpretable_embedding.indices_to_embeddings(src_indices)\n",
    "    \n",
    "    # get outputs tensor [seq_length, batch_size, trg_vocab_size]\n",
    "    trg_indices = torch.LongTensor(trg_indices)\n",
    "    outputs = model(src_embedding, trg_indices, 0).squeeze(0)\n",
    "    \n",
    "    # get output_tokens from outputs\n",
    "    # compute attributions and approximation delta using integrated gradients\n",
    "    output_tokens = []\n",
    "    attribution_igs = [] # size: [len(output_tokens), len(src_tokens)]\n",
    "    for idx, output in enumerate(outputs):\n",
    "        max_idx = torch.argmax(output.squeeze(0))\n",
    "        output_token = TRG.vocab.itos[max_idx]\n",
    "        output_tokens.append(output_token)\n",
    "        \n",
    "        attribution_ig, delta =  ig.attribute(src_embedding, additional_forward_args=(trg_indices, idx), target=max_idx, n_steps=10)\n",
    "        attribution_igs.append(attribution_ig)\n",
    "    \n",
    "    return attribution_igs, output_tokens\n",
    "    "
   ]
  },
  {
   "cell_type": "markdown",
   "metadata": {},
   "source": [
    "Visualize attribution by creating a matrix of probablity of size \\[len(output_tokens), len(src_tokens)\\]"
   ]
  },
  {
   "cell_type": "code",
   "execution_count": 182,
   "metadata": {},
   "outputs": [],
   "source": [
    "import matplotlib\n",
    "import matplotlib.pyplot as plt\n",
    "import numpy\n",
    "\n",
    "def plot_attributions(attribution_igs, src, output_tokens):\n",
    "    # This is an example of how we can visualize attributions.\n",
    "    # We plot an attribution-based alignments between every output token and every input token.\n",
    "    \n",
    "    # get a list of src_tokens from the src sentence\n",
    "    src_tokens = tokenize_de(src)\n",
    "    src_tokens = [SRC.init_token] + src_tokens + [SRC.eos_token]\n",
    "    \n",
    "    # For each output token, we aggregate and normalize attribution of each input token.\n",
    "    normalized_attribution_igs = [] #size [len(output_tokens), len(src_tokens)]\n",
    "    end_idx = len(output_tokens) - 1\n",
    "    for idx, attribution_ig in enumerate(attribution_igs):\n",
    "        # Disregard the token <eos> token at the end of the output_tokens.\n",
    "        if output_tokens[idx] == SRC.eos_token:\n",
    "            end_idx = idx\n",
    "            break\n",
    "            \n",
    "        attribution_ig = attribution_ig.sum(dim=2).squeeze(0)\n",
    "        attribution_ig /= torch.norm(attribution_ig)\n",
    "        attribution_ig = attribution_ig.detach().squeeze(1).numpy()\n",
    "        normalized_attribution_igs.append(attribution_ig)\n",
    "    \n",
    "    normalized_attribution_igs = numpy.array(normalized_attribution_igs)\n",
    "    \n",
    "    plot_heatmap(normalized_attribution_igs[:].transpose(), output_tokens, src_tokens)\n"
   ]
  },
  {
   "cell_type": "markdown",
   "metadata": {},
   "source": [
    "The heatmap was created based on documentation of creating annotated heatmaps on matplotlib. For more info, read [here](https://matplotlib.org/3.1.1/gallery/images_contours_and_fields/image_annotated_heatmap.html."
   ]
  },
  {
   "cell_type": "code",
   "execution_count": 186,
   "metadata": {},
   "outputs": [],
   "source": [
    "def plot_heatmap(data, x_labels, y_labels):\n",
    "    \n",
    "    ax = plt.gca()\n",
    "    \n",
    "    # Plot the heatmap\n",
    "    im = ax.imshow(data, cmap='RdBu', interpolation='nearest', aspect='auto')\n",
    "    \n",
    "    # Create colorbar\n",
    "    cbar = ax.figure.colorbar(im, ax=ax)\n",
    "    cbar.ax.set_ylabel(\"attributions\", rotation=-90, va=\"bottom\")\n",
    "    \n",
    "    # how all ticks and label them with the respective list entries\n",
    "    ax.set_xticks(np.arange(data.shape[1]))\n",
    "    ax.set_yticks(np.arange(data.shape[0]))\n",
    "    ax.set_xticklabels(x_labels)\n",
    "    ax.set_yticklabels(y_labels)\n",
    "    ax.set_xlabel('Output Sequence')\n",
    "    ax.set_ylabel('Input Sequence')\n",
    "    \n",
    "    # Turn spines off and create white grid\n",
    "    for edge, spine in ax.spines.items():\n",
    "        spine.set_visible(False)\n",
    "    \n",
    "    ax.set_xticks(np.arange(data.shape[1]+1)-.5, minor=True)\n",
    "    ax.set_yticks(np.arange(data.shape[0]+1)-.5, minor=True)\n",
    "    ax.grid(which=\"minor\", color=\"w\", linestyle='-', linewidth=3)\n",
    "    ax.tick_params(which=\"minor\", bottom=False, left=False)\n",
    "    \n",
    "    # Set alignment to center\n",
    "    kw = dict(horizontalalignment=\"center\",\n",
    "              verticalalignment=\"center\")\n",
    "    kw.update()\n",
    "    \n",
    "    # Get the formatter in case a string is supplied\n",
    "    valfmt = \"{x:.1f}\"\n",
    "    if isinstance(valfmt, str):\n",
    "        valfmt = matplotlib.ticker.StrMethodFormatter(valfmt)\n",
    "    \n",
    "    # Loop over the data and assign the probablity for each output-input token alignment pair.\n",
    "    # Change the color of probability depending on the value.\n",
    "    textcolors =[\"black\", \"white\"]\n",
    "    threshold = im.norm(data.max())/2.\n",
    "    texts = []\n",
    "    for i in range(data.shape[0]):\n",
    "        for j in range(data.shape[1]):\n",
    "            if data[i, j] == \"nan\":\n",
    "                continue\n",
    "            kw.update(color=textcolors[int(im.norm(data[i, j]) > threshold)])\n",
    "            text = im.axes.text(j, i, valfmt(data[i, j], None), **kw)\n",
    "            texts.append(text)\n",
    "    "
   ]
  },
  {
   "cell_type": "markdown",
   "metadata": {},
   "source": [
    "Translate sample sentences and interpret them"
   ]
  },
  {
   "cell_type": "code",
   "execution_count": 180,
   "metadata": {},
   "outputs": [],
   "source": [
    "attribution_igs, output_tokens = interpret_sentence(\n",
    "    pretrained_model, \n",
    "    'Ein mann im blauen Hemd.', \n",
    "    'a man in blue shirt.'\n",
    ")"
   ]
  },
  {
   "cell_type": "code",
   "execution_count": 181,
   "metadata": {},
   "outputs": [
    {
     "data": {
      "image/png": "[encoded data removed]",
      "text/plain": [
       "<Figure size 432x288 with 2 Axes>"
      ]
     },
     "metadata": {
      "needs_background": "light"
     },
     "output_type": "display_data"
    }
   ],
   "source": [
    "plot_attributions(attribution_igs, 'ein Mann im blauen Hemd', output_tokens)"
   ]
  },
  {
   "cell_type": "code",
   "execution_count": 187,
   "metadata": {},
   "outputs": [],
   "source": [
    "remove_interpretable_embedding_layer(pretrained_model, interpretable_embedding)"
   ]
  }
 ],
 "metadata": {
  "kernelspec": {
   "display_name": "Python 3",
   "language": "python",
   "name": "python3"
  },
  "language_info": {
   "codemirror_mode": {
    "name": "ipython",
    "version": 3
   },
   "file_extension": ".py",
   "mimetype": "text/x-python",
   "name": "python",
   "nbconvert_exporter": "python",
   "pygments_lexer": "ipython3",
   "version": "3.7.3"
  }
 },
 "nbformat": 4,
 "nbformat_minor": 2
}
